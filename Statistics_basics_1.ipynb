{
 "cells": [
  {
   "cell_type": "markdown",
   "metadata": {},
   "source": [
    "Q1. What is Statistics?"
   ]
  },
  {
   "cell_type": "markdown",
   "metadata": {},
   "source": [
    "Statistics is the science of collecting, oraganising and analysing the data."
   ]
  },
  {
   "cell_type": "markdown",
   "metadata": {},
   "source": [
    "Q2. Define the different types of statistics and give an example of when each type might be used"
   ]
  },
  {
   "cell_type": "markdown",
   "metadata": {},
   "source": [
    "types of statistics:\n",
    "       i) Descriptive statistics\n",
    "      ii) inferential statistics\n",
    "Descriptive statistices :- it consists of organising and summarizing of the data\n",
    "example:- if we want to find the average height of a student in a class then we use descriptive statistics.\n",
    "inferential statistics:-Inferential statistics involve drawing conclusions and making predictions about a population based on a sample of data.\n",
    "example :- if we want to find the average weight of a person in a country then we use inferential statistics because it is defficult to collect weight of each person in a country."
   ]
  },
  {
   "cell_type": "markdown",
   "metadata": {},
   "source": [
    "Q3.  What are the different types of data and how do they differ from each other? Provide an example of \n",
    "each type of data."
   ]
  },
  {
   "cell_type": "markdown",
   "metadata": {},
   "source": [
    "\n",
    "Types of data:-\n",
    "    i) Quantitative data\n",
    "    ii) Qualitative data\n",
    "Quantitative data:-\n",
    " Quantitative data represents measurable data that can be represent in numerical values.\n",
    "    i)Descrete:- whole numbers with specific range.\n",
    "        ex:- number of bank accounts\n",
    "    ii) continous:-any value within given range.\n",
    "        ex:-height,weight\n",
    "Qualitative data:-Qualitative data represents quality or characteristics of a data. it is not measurable.\n",
    "    i)Nominal data\n",
    "    ii)Ordinal data\n",
    "Nominal:- nominal data represents categorical data.\n",
    "ex:-color,gender\n",
    "ordinal data:-represents categorical data with ranking.\n",
    "ex:-\n",
    "Qualification of a person\n",
    "\n"
   ]
  },
  {
   "cell_type": "markdown",
   "metadata": {},
   "source": [
    "Q4. Categorise the following datasets with respect to quantitative and qualitative data types:\n",
    "\n",
    "(i)\tGrading in exam: A+, A, B+, B, C+, C, D, E\n",
    "\n",
    "(ii)\tColour of mangoes: yellow, green, orange, red\n",
    "\n",
    "(iii)\tHeight data of a class: [178.9, 179, 179.5, 176, 177.2, 178.3, 175.8,...]\n",
    "\n",
    "(iv)\tNumber of mangoes exported by a farm: [500, 600, 478, 672, …]"
   ]
  },
  {
   "cell_type": "markdown",
   "metadata": {},
   "source": [
    "i)Grading in exam is ordinal scale data(Qualitative)\n",
    "ii) color in mangoes is categorical data(Qualitative)\n",
    "iii)Height data of a class is continues data(Quantitative)\n",
    "iv) Number of mangoes by a farm if discrete data(Quantitative)\n"
   ]
  },
  {
   "cell_type": "markdown",
   "metadata": {},
   "source": [
    "Q5. Explain the concept of levels of measurement and give an example of a variable for each level."
   ]
  },
  {
   "cell_type": "markdown",
   "metadata": {},
   "source": [
    "Levels of measurement:-\n",
    "i)Nominal scale data\n",
    "ii)Ordinal scale data\n",
    "iii)Interval scale data\n",
    "iii)ratio scale data\n",
    "Nominal scale data:-represents categorical data.\n",
    "example:-color,gender\n",
    "Ordinal scale data:-represents categorical data with ranking, but difference cannot be measured.\n",
    "example:- qualification\n",
    "Qualification   rank\n",
    "phd------------>1st\n",
    "be------------->3rd\n",
    "masters-------->2nd\n",
    "bcom----------->5th\n",
    "bsc------------>4th\n",
    "interval scale data:-rank and order matters and also difference can be meassured.\n",
    "example:-temperature\n",
    "ratio scale data:-ratio can also be calculated including with rank and order.\n",
    "example:-marks"
   ]
  },
  {
   "cell_type": "markdown",
   "metadata": {},
   "source": [
    "Q6. Why is it important to understand the level of measurement when analyzing data? Provide an \n",
    "example to illustrate your answer."
   ]
  },
  {
   "cell_type": "markdown",
   "metadata": {},
   "source": [
    "Understanding of level of measurement is very important because it determines the type of statistical analysis that can be applied to given data. Each level of measurement has different properties, and wrong statistical analysis may lead to wrong conclusions."
   ]
  },
  {
   "cell_type": "markdown",
   "metadata": {},
   "source": [
    "Q7. How nominal data type is different from ordinal data type."
   ]
  },
  {
   "cell_type": "markdown",
   "metadata": {},
   "source": [
    "nominal data consists of only categorical data but ordinal datatype consists rankings also including with categorical data."
   ]
  },
  {
   "cell_type": "markdown",
   "metadata": {},
   "source": [
    "Q8. Which type of plot can be used to display data in terms of range?"
   ]
  },
  {
   "cell_type": "markdown",
   "metadata": {},
   "source": [
    "A boxplot is commonly used to display data in terms of range.This type of ploting is used to find minimum,first quartile,second quartile(Mean),third quartile,maximum and outliers in the given dataset."
   ]
  },
  {
   "cell_type": "markdown",
   "metadata": {},
   "source": [
    "Q9. Describe the difference between descriptive and inferential statistics. Give an example of each\n",
    "type of statistics and explain how they are used."
   ]
  },
  {
   "cell_type": "markdown",
   "metadata": {},
   "source": [
    "Descriptive statistics:-\n",
    "-->it consists of organising and summerising of data.\n",
    "-->used to calculate central tendency.\n",
    "-->measure of dispersion.\n",
    "ex:- average height of a person in college.\n",
    "inferential statistics:-\n",
    "-->inferential statistics is used to make conclusions from the measured data.\n",
    "-->z-test and t-tests are used in inferential statistics.\n",
    "ex:-if we want to find the average weight of a person in a country then we use inferential statistics because it is defficult to collect weight of each person in a country.\n"
   ]
  },
  {
   "cell_type": "markdown",
   "metadata": {},
   "source": [
    "Q10. What are some common measures of central tendency and variability used in statistics? Explain\n",
    "how each measure can be used to describe a dataset."
   ]
  },
  {
   "cell_type": "markdown",
   "metadata": {},
   "source": [
    "\n",
    "\n",
    "Measures of Central Tendency:-\n",
    "\n",
    "1. Mean:\n",
    "   -->mean is used to find the average of given dataset.\n",
    "   -->mean is more sensitive to extreme values(outliers).\n",
    "2. Median:\n",
    "   -->median is the middle value of the given dataset.\n",
    "   --it is most prefferable if the given dataset contains ouliers\n",
    "\n",
    "3. Mode:\n",
    "   -->mode is value that appears maximum times in the given dataset.\n",
    "\n",
    "\n",
    "Measures of Variability:\n",
    "\n",
    "\n",
    "\n",
    "1. Variance:-\n",
    "   -->Variance measures the average squared deviation of each data point from the mean.\n",
    "   \n",
    "\n",
    "2. Standard Deviation:-\n",
    "   -->The standard deviation is the square root of the variance.\n",
    "   -->Variance and standard deviation give a more detailed understanding of how tightly or loosely the values are clustered around the mean."
   ]
  }
 ],
 "metadata": {
  "language_info": {
   "name": "python"
  }
 },
 "nbformat": 4,
 "nbformat_minor": 2
}
